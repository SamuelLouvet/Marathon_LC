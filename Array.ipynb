{
 "cells": [
  {
   "metadata": {},
   "cell_type": "markdown",
   "source": "# Array",
   "id": "1d2194b029a1f9a1"
  },
  {
   "metadata": {},
   "cell_type": "markdown",
   "source": [
    " ### Problème 1\n",
    "\n",
    "\n",
    "Given an array of integers nums and an integer target, return indices of the two numbers such that they add up to target.\n",
    "\n",
    "You may assume that each input would have exactly one solution, and you may not use the same element twice.\n",
    "\n",
    "You can return the answer in any order.\n",
    "\n",
    "Example 1:\n",
    "\n",
    "Input: nums = [2,7,11,15], target = 9\n",
    "Output: [0,1]\n",
    "Explanation: Because nums[0] + nums[1] == 9, we return [0, 1].\n",
    "Example 2:\n",
    "\n",
    "Input: nums = [3,2,4], target = 6\n",
    "Output: [1,2]\n",
    "Example 3:\n",
    "\n",
    "Input: nums = [3,3], target = 6\n",
    "Output: [0,1]\n",
    "\n"
   ],
   "id": "12e62bc95d5f2a0e"
  },
  {
   "metadata": {
    "ExecuteTime": {
     "end_time": "2025-03-31T22:25:11.669394Z",
     "start_time": "2025-03-31T22:24:57.273223Z"
    }
   },
   "cell_type": "code",
   "source": [
    "def twoSum(nums, target):\n",
    "    dict={}\n",
    "    for i in range(len(nums)):\n",
    "        if target-nums[i] in dict:\n",
    "            return [i, dict[target-nums[i]]]\n",
    "        dict[nums[i]]=i\n",
    "    return []\n",
    "\n",
    "nums = [2,7,11,15]\n",
    "target = 26\n",
    "\n",
    "twoSum(nums,target)\n",
    "\n"
   ],
   "id": "9fa44b282c597938",
   "outputs": [
    {
     "data": {
      "text/plain": [
       "[3, 2]"
      ]
     },
     "execution_count": 18,
     "metadata": {},
     "output_type": "execute_result"
    }
   ],
   "execution_count": 18
  },
  {
   "metadata": {},
   "cell_type": "markdown",
   "source": [
    " ### Problème 2\n",
    "\n",
    "Given two strings s and t, return true if t is an anagram of s, and false otherwise.\n",
    "\n",
    "\n",
    "\n",
    "Example 1:\n",
    "\n",
    "Input: s = \"anagram\", t = \"nagaram\"\n",
    "\n",
    "Output: true\n",
    "\n",
    "Example 2:\n",
    "\n",
    "Input: s = \"rat\", t = \"car\"\n",
    "\n",
    "Output: false\n",
    "\n",
    "\n",
    "\n",
    "Constraints:\n",
    "\n",
    "1 <= s.length, t.length <= 5 * 104\n",
    "s and t consist of lowercase English letters."
   ],
   "id": "48067d3dd78469f0"
  },
  {
   "metadata": {
    "ExecuteTime": {
     "end_time": "2025-03-31T22:36:48.004414Z",
     "start_time": "2025-03-31T22:36:47.982411Z"
    }
   },
   "cell_type": "code",
   "source": [
    "def isAnagram(s, t):\n",
    "        if len(s)!=len(t):\n",
    "                return False\n",
    "        dico_s,dico_t={},{}\n",
    "        for char in s:\n",
    "                dico_s[char]=dico_s.get(char,0)+1\n",
    "\n",
    "        for char in t:\n",
    "            dico_t[char]=dico_t.get(char,0)+1\n",
    "\n",
    "        if dico_t==dico_s:\n",
    "               return True\n",
    "        else:\n",
    "               return False\n",
    "\n",
    "\n",
    "s = \"anagram\"\n",
    "t = \"nagaram\"\n",
    "print(isAnagram(s,t))"
   ],
   "id": "4480c1628f81f433",
   "outputs": [
    {
     "name": "stdout",
     "output_type": "stream",
     "text": [
      "True\n"
     ]
    }
   ],
   "execution_count": 20
  },
  {
   "metadata": {},
   "cell_type": "markdown",
   "source": [
    " ### Problème 3\n",
    "\n",
    "Given an integer array nums, return true if any value appears more than once in the array, otherwise return false.\n",
    "\n",
    "Example 1:\n",
    "\n",
    "Input: nums = [1, 2, 3, 3]\n",
    "\n",
    "Output: true\n",
    "\n",
    "Example 2:\n",
    "\n",
    "Input: nums = [1, 2, 3, 4]\n",
    "\n",
    "Output: false\n",
    "\n"
   ],
   "id": "fc765781f3f4324b"
  },
  {
   "metadata": {
    "ExecuteTime": {
     "end_time": "2025-03-31T22:43:10.064871Z",
     "start_time": "2025-03-31T22:43:10.050848Z"
    }
   },
   "cell_type": "code",
   "source": [
    "def hasDuplicate(nums) -> bool:\n",
    "\n",
    "    hashmap={}\n",
    "    for values in nums:\n",
    "        hashmap[values]=hashmap.get(values,0)+1\n",
    "        if hashmap[values]>1:\n",
    "            return True\n",
    "    return False\n",
    "\n",
    "nums=[1,2,3,4]\n",
    "hasDuplicate(nums)"
   ],
   "id": "8e4f748a96e2eb8f",
   "outputs": [
    {
     "data": {
      "text/plain": [
       "False"
      ]
     },
     "execution_count": 28,
     "metadata": {},
     "output_type": "execute_result"
    }
   ],
   "execution_count": 28
  },
  {
   "metadata": {},
   "cell_type": "markdown",
   "source": [
    "### Problème 4\n",
    "\n",
    "Group Anagrams\n",
    "Given an array of strings strs, group all anagrams together into sublists. You may return the output in any order.\n",
    "\n",
    "An anagram is a string that contains the exact same characters as another string, but the order of the characters can be different.\n",
    "\n",
    "Example 1:\n",
    "\n",
    "Input: strs = [\"act\",\"pots\",\"tops\",\"cat\",\"stop\",\"hat\"]\n",
    "\n",
    "Output: [[\"hat\"],[\"act\", \"cat\"],[\"stop\", \"pots\", \"tops\"]]\n",
    "Example 2:\n",
    "\n",
    "Input: strs = [\"x\"]\n",
    "\n",
    "Output: [[\"x\"]]\n",
    "Example 3:\n",
    "\n",
    "Input: strs = [\"\"]\n",
    "\n",
    "Output: [[\"\"]]\n",
    "Constraints:\n",
    "\n",
    "1 <= strs.length <= 1000.\n",
    "0 <= strs[i].length <= 100\n",
    "strs[i] is made up of lowercase English letters.\n",
    "\n",
    "\n",
    "Recommended Time & Space Complexity\n",
    "You should aim for a solution with O(m * n) time and O(m) space, where m is the number of strings and n is the length of the longest string."
   ],
   "id": "10d1c100eda0b1a9"
  },
  {
   "metadata": {
    "jupyter": {
     "is_executing": true
    },
    "ExecuteTime": {
     "start_time": "2025-04-01T09:17:54.579944Z"
    }
   },
   "cell_type": "code",
   "source": [
    "def groupAnagrams(strs):\n",
    "    \"\"\"\n",
    "    :type strs: List[str]\n",
    "    :rtype: List[List[str]]\n",
    "    \"\"\"\n",
    "    listes_dico = {}\n",
    "    for s in strs:\n",
    "        key = tuple(sorted(s)) #un tuple est muable et peut etre une clé contrairement à une liste\n",
    "        if key not in listes_dico:\n",
    "            listes_dico[key] = [] #n'utilise pas le defaultdict pour ne pas importer la librairie\n",
    "        listes_dico[key].append(s)\n",
    "    return list(listes_dico.values())\n",
    "\n",
    "strs = [\"eat\", \"tea\", \"tan\", \"ate\", \"nat\", \"bat\"]\n",
    "print(groupAnagrams(strs))\n"
   ],
   "id": "28eedce220e43877",
   "outputs": [],
   "execution_count": null
  },
  {
   "metadata": {
    "ExecuteTime": {
     "end_time": "2025-04-01T13:06:55.251687Z",
     "start_time": "2025-04-01T13:06:55.229676Z"
    }
   },
   "cell_type": "code",
   "source": [
    "from collections import defaultdict\n",
    "\n",
    "\n",
    "def groupAnagrams(strs):\n",
    "    dico=defaultdict(list)\n",
    "    for s in strs:\n",
    "        count=[0]*26\n",
    "        for char in s:\n",
    "            count[ord(char)-ord(\"a\")]+=1\n",
    "        dico[tuple(count)].append(s)\n",
    "    return list(dico.values())\n",
    "\n",
    "\n",
    "strs = [\"act\",\"pots\",\"tops\",\"cat\",\"stop\",\"hat\"]\n",
    "print(groupAnagrams(strs))\n"
   ],
   "id": "7b225cbaea3100c5",
   "outputs": [
    {
     "name": "stdout",
     "output_type": "stream",
     "text": [
      "[['act', 'cat'], ['pots', 'tops', 'stop'], ['hat']]\n"
     ]
    }
   ],
   "execution_count": 8
  },
  {
   "metadata": {},
   "cell_type": "markdown",
   "source": [
    "### Problème 5\n",
    "#### Medium\n",
    "\n",
    "Top K Frequent Elements\n",
    "Given an integer array nums and an integer k, return the k most frequent elements within the array.\n",
    "\n",
    "The test cases are generated such that the answer is always unique.\n",
    "\n",
    "You may return the output in any order.\n",
    "\n",
    "Example 1:\n",
    "\n",
    "Input: nums = [1,2,2,3,3,3], k = 2\n",
    "\n",
    "Output: [2,3]\n",
    "Example 2:\n",
    "\n",
    "Input: nums = [7,7], k = 1\n",
    "\n",
    "Output: [7]\n",
    "\n",
    "Constraints:\n",
    "\n",
    "1 <= nums.length <= 10^4.\n",
    "-1000 <= nums[i] <= 1000\n",
    "1 <= k <= number of distinct elements in nums.\n",
    "\n",
    "\n",
    "Recommended Time & Space Complexity\n",
    "You should aim for a solution with O(n) time and O(n) space, where n is the size of the input array."
   ],
   "id": "2da34f11751c4762"
  },
  {
   "metadata": {
    "ExecuteTime": {
     "end_time": "2025-04-02T10:18:12.196184Z",
     "start_time": "2025-04-02T10:18:12.172180Z"
    }
   },
   "cell_type": "code",
   "source": [
    "def topKFrequent(nums,k):\n",
    "\n",
    "    dico={}\n",
    "    res=[[] for i in range(len(nums)+1)]\n",
    "    for int in nums:\n",
    "        dico[int]=dico.get(int,0)+1\n",
    "\n",
    "    for int, frequency in dico.items():\n",
    "        res[frequency].append(int)\n",
    "\n",
    "    final=[]\n",
    "\n",
    "    for j in range(len(res)-1,0,-1): # 0 car la frequence est de 1 minimum\n",
    "        for num in res[j]:\n",
    "            final.append(num)\n",
    "            if len(final)==k:\n",
    "                return final\n",
    "\n",
    "\n",
    "nums = [1,2,2,3,3,3]\n",
    "k = 2\n",
    "topKFrequent(nums,k)\n",
    "\n"
   ],
   "id": "16d548834dd72574",
   "outputs": [
    {
     "data": {
      "text/plain": [
       "[3, 2]"
      ]
     },
     "execution_count": 8,
     "metadata": {},
     "output_type": "execute_result"
    }
   ],
   "execution_count": 8
  },
  {
   "metadata": {},
   "cell_type": "markdown",
   "source": [
    "### Problème 6\n",
    "\n",
    "#### Medium\n",
    "\n",
    "Encode and Decode Strings\n",
    "Design an algorithm to encode a list of strings to a single string. The encoded string is then decoded back to the original list of strings.\n",
    "\n",
    "Please implement encode and decode\n",
    "\n",
    "Example 1:\n",
    "\n",
    "Input: [\"neet\",\"code\",\"love\",\"you\"]\n",
    "\n",
    "Output:[\"neet\",\"code\",\"love\",\"you\"]\n",
    "Example 2:\n",
    "\n",
    "Input: [\"we\",\"say\",\":\",\"yes\"]\n",
    "\n",
    "Output: [\"we\",\"say\",\":\",\"yes\"]\n",
    "Constraints:\n",
    "\n",
    "0 <= strs.length < 100\n",
    "0 <= strs[i].length < 200\n",
    "strs[i] contains only UTF-8 characters."
   ],
   "id": "48a93672d90e4096"
  },
  {
   "metadata": {
    "jupyter": {
     "is_executing": true
    }
   },
   "cell_type": "code",
   "source": [
    "def encode(strs):\n",
    "    res=[]\n",
    "    sentence=''\n",
    "    for s in strs:\n",
    "        sentence += str(len(s))+\"#\"+s\n",
    "    res.append(sentence)\n",
    "    return res\n",
    "\n",
    "Input= [\"neet\",\"code\",\"love\",\"you\"]\n",
    "\n",
    "print(encode(Input))\n",
    "\n",
    "\n",
    "def decode(str):\n",
    "    res=[]\n",
    "    i=0\n",
    "    while i<len(str):\n",
    "        number=''\n",
    "        while str[i]!='#':\n",
    "            number+=str[i]\n",
    "            i+=1\n",
    "        res.append(str[i+1:i+1+int(number)])\n",
    "        i=i+2+int(number)\n",
    "\n",
    "print(decode(encode(Input)))\n",
    "\n",
    "\n",
    "def decode(s):\n",
    "        res = []\n",
    "        i = 0\n",
    "\n",
    "        while i < len(s):\n",
    "            j = i\n",
    "            while s[j] != '#':\n",
    "                j += 1\n",
    "            length = int(s[i:j])\n",
    "            i = j + 1\n",
    "            j = i + length\n",
    "            res.append(s[i:j])\n",
    "            i = j\n",
    "\n",
    "        return res ###correction nnetcode avec gestion indice propre\n"
   ],
   "id": "ef30fb8b6f39e322",
   "outputs": [],
   "execution_count": null
  },
  {
   "metadata": {},
   "cell_type": "markdown",
   "source": [
    "### Problème 7\n",
    "\n",
    "#### Medium\n",
    "\n",
    "Products of Array Except Self\n",
    "Given an integer array nums, return an array output where output[i] is the product of all the elements of nums except nums[i].\n",
    "\n",
    "Each product is guaranteed to fit in a 32-bit integer.\n",
    "\n",
    "Follow-up: Could you solve it in\n",
    "O(n)\n",
    "O(n) time without using the division operation?\n",
    "\n",
    "Example 1:\n",
    "\n",
    "Input: nums = [1,2,4,6]\n",
    "\n",
    "Output: [48,24,12,8]\n",
    "Example 2:\n",
    "\n",
    "Input: nums = [-1,0,1,2,3]\n",
    "\n",
    "Output: [0,-6,0,0,0]\n",
    "Constraints:\n",
    "\n",
    "2 <= nums.length <= 1000\n",
    "-20 <= nums[i] <= 20\n",
    "\n",
    "\n",
    "Recommended Time & Space Complexity\n",
    "You should aim for a solution as good or better than O(n) time and O(n) space, where n is the size of the input array."
   ],
   "id": "222ecb3f8cc94327"
  },
  {
   "metadata": {
    "ExecuteTime": {
     "end_time": "2025-04-02T10:16:20.966452Z",
     "start_time": "2025-04-02T10:16:20.948438Z"
    }
   },
   "cell_type": "code",
   "source": [
    "def productExceptSelf(nums):\n",
    "    res=[1]*len(nums)\n",
    "    prefix=1\n",
    "    for i in range(len(nums)):\n",
    "        res[i]=prefix\n",
    "        prefix=prefix*nums[i]\n",
    "    suffix=1\n",
    "    for i in range(len(nums)-1,-1,-1):\n",
    "        res[i]=res[i]*suffix\n",
    "        suffix=suffix*nums[i]\n",
    "\n",
    "\n",
    "    return res\n",
    "\n",
    "nums = [1,2,4,6]\n",
    "productExceptSelf(nums)"
   ],
   "id": "a4398eb84096f3a9",
   "outputs": [
    {
     "data": {
      "text/plain": [
       "[48, 24, 12, 8]"
      ]
     },
     "execution_count": 4,
     "metadata": {},
     "output_type": "execute_result"
    }
   ],
   "execution_count": 4
  },
  {
   "metadata": {},
   "cell_type": "markdown",
   "source": [
    "### Problème 8\n",
    "\n",
    "#### Medium\n",
    "\n",
    "Valid Sudoku\n",
    "You are given a a 9 x 9 Sudoku board board. A Sudoku board is valid if the following rules are followed:\n",
    "\n",
    "Each row must contain the digits 1-9 without duplicates.\n",
    "Each column must contain the digits 1-9 without duplicates.\n",
    "Each of the nine 3 x 3 sub-boxes of the grid must contain the digits 1-9 without duplicates.\n",
    "Return true if the Sudoku board is valid, otherwise return false\n",
    "\n",
    "Note: A board does not need to be full or be solvable to be valid.\n",
    "\n",
    "Example 1:\n",
    "\n",
    "\n",
    "\n",
    "Input: board =\n",
    "[[\"1\",\"2\",\".\",\".\",\"3\",\".\",\".\",\".\",\".\"],\n",
    " [\"4\",\".\",\".\",\"5\",\".\",\".\",\".\",\".\",\".\"],\n",
    " [\".\",\"9\",\"8\",\".\",\".\",\".\",\".\",\".\",\"3\"],\n",
    " [\"5\",\".\",\".\",\".\",\"6\",\".\",\".\",\".\",\"4\"],\n",
    " [\".\",\".\",\".\",\"8\",\".\",\"3\",\".\",\".\",\"5\"],\n",
    " [\"7\",\".\",\".\",\".\",\"2\",\".\",\".\",\".\",\"6\"],\n",
    " [\".\",\".\",\".\",\".\",\".\",\".\",\"2\",\".\",\".\"],\n",
    " [\".\",\".\",\".\",\"4\",\"1\",\"9\",\".\",\".\",\"8\"],\n",
    " [\".\",\".\",\".\",\".\",\"8\",\".\",\".\",\"7\",\"9\"]]\n",
    "\n",
    "Output: true\n",
    "Example 2:\n",
    "\n",
    "Input: board =\n",
    "[[\"1\",\"2\",\".\",\".\",\"3\",\".\",\".\",\".\",\".\"],\n",
    " [\"4\",\".\",\".\",\"5\",\".\",\".\",\".\",\".\",\".\"],\n",
    " [\".\",\"9\",\"1\",\".\",\".\",\".\",\".\",\".\",\"3\"],\n",
    " [\"5\",\".\",\".\",\".\",\"6\",\".\",\".\",\".\",\"4\"],\n",
    " [\".\",\".\",\".\",\"8\",\".\",\"3\",\".\",\".\",\"5\"],\n",
    " [\"7\",\".\",\".\",\".\",\"2\",\".\",\".\",\".\",\"6\"],\n",
    " [\".\",\".\",\".\",\".\",\".\",\".\",\"2\",\".\",\".\"],\n",
    " [\".\",\".\",\".\",\"4\",\"1\",\"9\",\".\",\".\",\"8\"],\n",
    " [\".\",\".\",\".\",\".\",\"8\",\".\",\".\",\"7\",\"9\"]]\n",
    "\n",
    "Output: false\n",
    "Explanation: There are two 1's in the top-left 3x3 sub-box.\n",
    "\n",
    "Constraints:\n",
    "\n",
    "board.length == 9\n",
    "board[i].length == 9\n",
    "board[i][j] is a digit 1-9 or '.'."
   ],
   "id": "fd747f12397eb43d"
  },
  {
   "metadata": {
    "ExecuteTime": {
     "end_time": "2025-04-02T18:18:09.908963Z",
     "start_time": "2025-04-02T18:18:09.886001Z"
    }
   },
   "cell_type": "code",
   "source": [
    "from collections import defaultdict\n",
    "\n",
    "def isValidSudoku(board):\n",
    "    # Vérifier les lignes\n",
    "    for i in range(len(board)):\n",
    "        counter = {}\n",
    "        for j in range(len(board[i])):\n",
    "            if board[i][j] == '.':\n",
    "                continue\n",
    "            counter[board[i][j]] = counter.get(board[i][j], 0) + 1\n",
    "            if counter[board[i][j]] > 1:\n",
    "                return False\n",
    "\n",
    "    # Vérifier les colonnes\n",
    "    for i in range(len(board)):\n",
    "        counter = {}\n",
    "        for j in range(len(board[i])):\n",
    "            if board[j][i] == '.':\n",
    "                continue\n",
    "            counter[board[j][i]] = counter.get(board[j][i], 0) + 1\n",
    "            if counter[board[j][i]] > 1:\n",
    "                return False\n",
    "\n",
    "    # Vérifier les sous-grilles 3x3\n",
    "    for block_row in range(3):\n",
    "        for block_col in range(3):\n",
    "            counter = {}\n",
    "            for i in range(3):\n",
    "                for j in range(3):\n",
    "                    row, col = block_row * 3 + i, block_col * 3 + j\n",
    "                    if board[row][col] == '.':\n",
    "                        continue\n",
    "                    counter[board[row][col]] = counter.get(board[row][col], 0) + 1\n",
    "                    if counter[board[row][col]] > 1:\n",
    "                        return False\n",
    "\n",
    "    return True\n",
    "\n",
    "\n",
    "class Solution:\n",
    "    def isValidSudoku(self, board):\n",
    "\n",
    "        rows=defaultdict(set)\n",
    "        columns=defaultdict(set)\n",
    "        squares=defaultdict(set)\n",
    "\n",
    "        for r in range(9):\n",
    "            for c in range(9):\n",
    "                if board[r][c]=='.':\n",
    "                    continue\n",
    "\n",
    "                if (board[r][c] in rows[c]) or (board[r][c] in columns[r]) or (board[r][c] in squares[(r // 3, c // 3)]):\n",
    "                    return False\n",
    "\n",
    "                columns[r].add(board[r][c])\n",
    "                rows[c].add(board[r][c])\n",
    "                squares[(r // 3, c // 3)].add(board[r][c])\n",
    "\n",
    "\n",
    "\n",
    "\n",
    "        return True\n",
    "\n",
    "\n",
    "\n",
    "board = [[\"1\",\"2\",\".\",\".\",\"3\",\".\",\".\",\".\",\".\"],\n",
    " [\"4\",\".\",\".\",\"5\",\".\",\".\",\".\",\".\",\".\"],\n",
    " [\".\",\"9\",\"1\",\".\",\".\",\".\",\".\",\".\",\"3\"],\n",
    " [\"5\",\".\",\".\",\".\",\"6\",\".\",\".\",\".\",\"4\"],\n",
    " [\".\",\".\",\".\",\"8\",\".\",\"3\",\".\",\".\",\"5\"],\n",
    " [\"7\",\".\",\".\",\".\",\"2\",\".\",\".\",\".\",\"6\"],\n",
    " [\".\",\".\",\".\",\".\",\".\",\".\",\"2\",\".\",\".\"],\n",
    " [\".\",\".\",\".\",\"4\",\"1\",\"9\",\".\",\".\",\"8\"],\n",
    " [\".\",\".\",\".\",\".\",\"8\",\".\",\".\",\"7\",\"9\"]]\n",
    "\n",
    "s=Solution()\n",
    "s.isValidSudoku(board)\n",
    "\n",
    "\n",
    "\n",
    "\n",
    "\n"
   ],
   "id": "406e53ebca3ce87f",
   "outputs": [
    {
     "data": {
      "text/plain": [
       "False"
      ]
     },
     "execution_count": 15,
     "metadata": {},
     "output_type": "execute_result"
    }
   ],
   "execution_count": 15
  },
  {
   "metadata": {},
   "cell_type": "markdown",
   "source": [
    "### Problème 9\n",
    "\n",
    "#### Medium\n",
    "\n",
    "Longest Consecutive Sequence\n",
    "Given an array of integers nums, return the length of the longest consecutive sequence of elements that can be formed.\n",
    "\n",
    "A consecutive sequence is a sequence of elements in which each element is exactly 1 greater than the previous element. The elements do not have to be consecutive in the original array.\n",
    "\n",
    "You must write an algorithm that runs in O(n) time.\n",
    "\n",
    "Example 1:\n",
    "\n",
    "Input: nums = [2,20,4,10,3,4,5]\n",
    "\n",
    "Output: 4\n",
    "Explanation: The longest consecutive sequence is [2, 3, 4, 5].\n",
    "\n",
    "Example 2:\n",
    "\n",
    "Input: nums = [0,3,2,5,4,6,1,1]\n",
    "\n",
    "Output: 7\n",
    "Constraints:\n",
    "\n",
    "0 <= nums.length <= 1000\n",
    "-10^9 <= nums[i] <= 10^9"
   ],
   "id": "9bc4fe9674f0ea25"
  },
  {
   "metadata": {},
   "cell_type": "code",
   "outputs": [],
   "execution_count": null,
   "source": [
    "  class Solution:\n",
    "    def longestConsecutive(self, nums: List[int]) -> int:\n",
    "        numSet = set(nums)\n",
    "        longest = 0\n",
    "\n",
    "        for num in numSet:\n",
    "            if (num - 1) not in numSet:\n",
    "                length = 1\n",
    "                while (num + length) in numSet:\n",
    "                    length += 1\n",
    "                longest = max(length, longest)\n",
    "        return longest"
   ],
   "id": "befaed24673b03b1"
  }
 ],
 "metadata": {
  "kernelspec": {
   "display_name": "Python 3",
   "language": "python",
   "name": "python3"
  },
  "language_info": {
   "codemirror_mode": {
    "name": "ipython",
    "version": 2
   },
   "file_extension": ".py",
   "mimetype": "text/x-python",
   "name": "python",
   "nbconvert_exporter": "python",
   "pygments_lexer": "ipython2",
   "version": "2.7.6"
  }
 },
 "nbformat": 4,
 "nbformat_minor": 5
}
