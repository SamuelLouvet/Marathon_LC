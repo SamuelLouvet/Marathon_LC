{
 "cells": [
  {
   "metadata": {},
   "cell_type": "markdown",
   "source": "# Array",
   "id": "1d2194b029a1f9a1"
  },
  {
   "metadata": {},
   "cell_type": "markdown",
   "source": [
    " ### Problème 1\n",
    "\n",
    "\n",
    "Given an array of integers nums and an integer target, return indices of the two numbers such that they add up to target.\n",
    "\n",
    "You may assume that each input would have exactly one solution, and you may not use the same element twice.\n",
    "\n",
    "You can return the answer in any order.\n",
    "\n",
    "Example 1:\n",
    "\n",
    "Input: nums = [2,7,11,15], target = 9\n",
    "Output: [0,1]\n",
    "Explanation: Because nums[0] + nums[1] == 9, we return [0, 1].\n",
    "Example 2:\n",
    "\n",
    "Input: nums = [3,2,4], target = 6\n",
    "Output: [1,2]\n",
    "Example 3:\n",
    "\n",
    "Input: nums = [3,3], target = 6\n",
    "Output: [0,1]\n",
    "\n"
   ],
   "id": "12e62bc95d5f2a0e"
  },
  {
   "metadata": {
    "ExecuteTime": {
     "end_time": "2025-03-31T22:25:11.669394Z",
     "start_time": "2025-03-31T22:24:57.273223Z"
    }
   },
   "cell_type": "code",
   "source": [
    "def twoSum(nums, target):\n",
    "    dict={}\n",
    "    for i in range(len(nums)):\n",
    "        if target-nums[i] in dict:\n",
    "            return [i, dict[target-nums[i]]]\n",
    "        dict[nums[i]]=i\n",
    "    return []\n",
    "\n",
    "nums = [2,7,11,15]\n",
    "target = 26\n",
    "\n",
    "twoSum(nums,target)\n",
    "\n"
   ],
   "id": "9fa44b282c597938",
   "outputs": [
    {
     "data": {
      "text/plain": [
       "[3, 2]"
      ]
     },
     "execution_count": 18,
     "metadata": {},
     "output_type": "execute_result"
    }
   ],
   "execution_count": 18
  },
  {
   "metadata": {},
   "cell_type": "markdown",
   "source": [
    " ### Problème 2\n",
    "\n",
    "Given two strings s and t, return true if t is an anagram of s, and false otherwise.\n",
    "\n",
    "\n",
    "\n",
    "Example 1:\n",
    "\n",
    "Input: s = \"anagram\", t = \"nagaram\"\n",
    "\n",
    "Output: true\n",
    "\n",
    "Example 2:\n",
    "\n",
    "Input: s = \"rat\", t = \"car\"\n",
    "\n",
    "Output: false\n",
    "\n",
    "\n",
    "\n",
    "Constraints:\n",
    "\n",
    "1 <= s.length, t.length <= 5 * 104\n",
    "s and t consist of lowercase English letters."
   ],
   "id": "48067d3dd78469f0"
  },
  {
   "metadata": {
    "ExecuteTime": {
     "end_time": "2025-03-31T22:36:48.004414Z",
     "start_time": "2025-03-31T22:36:47.982411Z"
    }
   },
   "cell_type": "code",
   "source": [
    "def isAnagram(s, t):\n",
    "        if len(s)!=len(t):\n",
    "                return False\n",
    "        dico_s,dico_t={},{}\n",
    "        for char in s:\n",
    "                dico_s[char]=dico_s.get(char,0)+1\n",
    "\n",
    "        for char in t:\n",
    "            dico_t[char]=dico_t.get(char,0)+1\n",
    "\n",
    "        if dico_t==dico_s:\n",
    "               return True\n",
    "        else:\n",
    "               return False\n",
    "\n",
    "\n",
    "s = \"anagram\"\n",
    "t = \"nagaram\"\n",
    "print(isAnagram(s,t))"
   ],
   "id": "4480c1628f81f433",
   "outputs": [
    {
     "name": "stdout",
     "output_type": "stream",
     "text": [
      "True\n"
     ]
    }
   ],
   "execution_count": 20
  },
  {
   "metadata": {},
   "cell_type": "markdown",
   "source": [
    " ### Problème 3\n",
    "\n",
    "Given an integer array nums, return true if any value appears more than once in the array, otherwise return false.\n",
    "\n",
    "Example 1:\n",
    "\n",
    "Input: nums = [1, 2, 3, 3]\n",
    "\n",
    "Output: true\n",
    "\n",
    "Example 2:\n",
    "\n",
    "Input: nums = [1, 2, 3, 4]\n",
    "\n",
    "Output: false\n",
    "\n"
   ],
   "id": "fc765781f3f4324b"
  },
  {
   "metadata": {
    "ExecuteTime": {
     "end_time": "2025-03-31T22:43:10.064871Z",
     "start_time": "2025-03-31T22:43:10.050848Z"
    }
   },
   "cell_type": "code",
   "source": [
    "def hasDuplicate(nums) -> bool:\n",
    "\n",
    "    hashmap={}\n",
    "    for values in nums:\n",
    "        hashmap[values]=hashmap.get(values,0)+1\n",
    "        if hashmap[values]>1:\n",
    "            return True\n",
    "    return False\n",
    "\n",
    "nums=[1,2,3,4]\n",
    "hasDuplicate(nums)"
   ],
   "id": "8e4f748a96e2eb8f",
   "outputs": [
    {
     "data": {
      "text/plain": [
       "False"
      ]
     },
     "execution_count": 28,
     "metadata": {},
     "output_type": "execute_result"
    }
   ],
   "execution_count": 28
  }
 ],
 "metadata": {
  "kernelspec": {
   "display_name": "Python 3",
   "language": "python",
   "name": "python3"
  },
  "language_info": {
   "codemirror_mode": {
    "name": "ipython",
    "version": 2
   },
   "file_extension": ".py",
   "mimetype": "text/x-python",
   "name": "python",
   "nbconvert_exporter": "python",
   "pygments_lexer": "ipython2",
   "version": "2.7.6"
  }
 },
 "nbformat": 4,
 "nbformat_minor": 5
}
