{
 "cells": [
  {
   "metadata": {},
   "cell_type": "markdown",
   "source": [
    "---\n",
    "# Easy Problems\n",
    "---"
   ],
   "id": "adf90644122162a3"
  },
  {
   "metadata": {},
   "cell_type": "markdown",
   "source": "## Valid Palindrome",
   "id": "5f2057c37501b83e"
  },
  {
   "metadata": {
    "ExecuteTime": {
     "end_time": "2025-04-04T20:24:07.338802Z",
     "start_time": "2025-04-04T20:24:07.334847Z"
    }
   },
   "cell_type": "code",
   "source": [
    "class Solution(object):\n",
    "\n",
    "    def alphaNum(self, c):\n",
    "        return (ord('A') <= ord(c) <= ord('Z') or\n",
    "        ord('a') <= ord(c) <= ord('z') or\n",
    "        ord('0') <= ord(c) <= ord('9'))\n",
    "\n",
    "    def isPalindrome(self, s):\n",
    "        \"\"\"\n",
    "        :type s: str\n",
    "        :rtype: bool\n",
    "        \"\"\"\n",
    "        lp, rp = 0, len(s)-1\n",
    "\n",
    "        while (lp <= rp):\n",
    "            while lp < rp and not self.alphaNum(s[lp]):\n",
    "                lp += 1\n",
    "            while lp < rp and not self.alphaNum(s[rp]):\n",
    "                rp -= 1\n",
    "\n",
    "            if s[lp].lower() == s[rp].lower():\n",
    "                lp += 1\n",
    "                rp -= 1\n",
    "            else:\n",
    "                return False\n",
    "\n",
    "        return True"
   ],
   "id": "d39bc7c2a85b0298",
   "outputs": [],
   "execution_count": 1
  },
  {
   "metadata": {
    "ExecuteTime": {
     "end_time": "2025-04-04T20:24:08.503522Z",
     "start_time": "2025-04-04T20:24:08.498134Z"
    }
   },
   "cell_type": "code",
   "source": [
    "s = Solution()\n",
    "s.isPalindrome(\"A man, a plan, a canal: Panama\")"
   ],
   "id": "d49afd5113b7418d",
   "outputs": [
    {
     "data": {
      "text/plain": [
       "True"
      ]
     },
     "execution_count": 2,
     "metadata": {},
     "output_type": "execute_result"
    }
   ],
   "execution_count": 2
  },
  {
   "metadata": {},
   "cell_type": "markdown",
   "source": "## Two Sum II Input Array Is Sorted",
   "id": "9679355e6b7aa76a"
  },
  {
   "metadata": {
    "ExecuteTime": {
     "end_time": "2025-04-04T20:32:30.392345Z",
     "start_time": "2025-04-04T20:32:30.388796Z"
    }
   },
   "cell_type": "code",
   "source": [
    "class Solution(object):\n",
    "    def twoSum(self, numbers, target):\n",
    "        \"\"\"\n",
    "        :type numbers: List[int]\n",
    "        :type target: int\n",
    "        :rtype: List[int]\n",
    "        \"\"\"\n",
    "        lp, rp = 0, len(numbers) - 1\n",
    "\n",
    "        while numbers[lp] + numbers[rp] != target:\n",
    "            addition = numbers[lp] + numbers[rp]\n",
    "            if addition > target:\n",
    "                rp -= 1\n",
    "            else:\n",
    "                lp += 1\n",
    "\n",
    "        return [lp+1,rp+1]"
   ],
   "id": "ea5516e0f14c8441",
   "outputs": [],
   "execution_count": 3
  },
  {
   "metadata": {
    "ExecuteTime": {
     "end_time": "2025-04-04T20:32:32.784922Z",
     "start_time": "2025-04-04T20:32:32.780836Z"
    }
   },
   "cell_type": "code",
   "source": [
    "s = Solution()\n",
    "s.twoSum([2,7,11,15], 9)"
   ],
   "id": "28099ff550f91266",
   "outputs": [
    {
     "data": {
      "text/plain": [
       "[1, 2]"
      ]
     },
     "execution_count": 4,
     "metadata": {},
     "output_type": "execute_result"
    }
   ],
   "execution_count": 4
  },
  {
   "metadata": {},
   "cell_type": "markdown",
   "source": "## 3Sum",
   "id": "6c5a5ae219f13b6d"
  },
  {
   "metadata": {},
   "cell_type": "code",
   "outputs": [],
   "execution_count": null,
   "source": "",
   "id": "c897cb2858773503"
  }
 ],
 "metadata": {
  "kernelspec": {
   "display_name": "Python 3",
   "language": "python",
   "name": "python3"
  },
  "language_info": {
   "codemirror_mode": {
    "name": "ipython",
    "version": 2
   },
   "file_extension": ".py",
   "mimetype": "text/x-python",
   "name": "python",
   "nbconvert_exporter": "python",
   "pygments_lexer": "ipython2",
   "version": "2.7.6"
  }
 },
 "nbformat": 4,
 "nbformat_minor": 5
}
