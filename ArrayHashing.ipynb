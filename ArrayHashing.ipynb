{
 "cells": [
  {
   "metadata": {},
   "cell_type": "markdown",
   "source": "---",
   "id": "fdd728e10cc73d55"
  },
  {
   "metadata": {},
   "cell_type": "markdown",
   "source": "# Easy Problems",
   "id": "13fd03a01e3def0c"
  },
  {
   "metadata": {},
   "cell_type": "markdown",
   "source": "---",
   "id": "74ef546b17356905"
  },
  {
   "metadata": {},
   "cell_type": "markdown",
   "source": "## Contains Duplicate",
   "id": "344d20d280e77269"
  },
  {
   "metadata": {
    "ExecuteTime": {
     "end_time": "2025-03-31T13:01:18.461958Z",
     "start_time": "2025-03-31T13:01:18.459342Z"
    }
   },
   "cell_type": "code",
   "source": [
    "class Solution(object):\n",
    "    def containsDuplicate(self, nums):\n",
    "        \"\"\"\n",
    "        :type nums: List[int]\n",
    "        :rtype: bool\n",
    "        \"\"\"\n",
    "        f = set()\n",
    "        for n in nums:\n",
    "            if n in f:\n",
    "                return True\n",
    "            f.add(n)\n",
    "        return False\n",
    "\n",
    "    def containsDuplicate2(self, nums):\n",
    "        \"\"\"\n",
    "        :type nums: List[int]\n",
    "        :rtype: bool\n",
    "        \"\"\"\n",
    "        x = set(nums)\n",
    "        if len(x) < len(nums):\n",
    "            return True\n",
    "\n",
    "        return False"
   ],
   "id": "2344090c8fff0829",
   "outputs": [],
   "execution_count": 7
  },
  {
   "metadata": {
    "ExecuteTime": {
     "end_time": "2025-03-31T13:01:54.899155Z",
     "start_time": "2025-03-31T13:01:54.895911Z"
    }
   },
   "cell_type": "code",
   "source": [
    "s = Solution()\n",
    "s.containsDuplicate([2,7,11,15])"
   ],
   "id": "8478d4111ba57f78",
   "outputs": [
    {
     "data": {
      "text/plain": [
       "False"
      ]
     },
     "execution_count": 11,
     "metadata": {},
     "output_type": "execute_result"
    }
   ],
   "execution_count": 11
  },
  {
   "metadata": {},
   "cell_type": "markdown",
   "source": "## Valid Anagram",
   "id": "5fc4e054985c9554"
  },
  {
   "metadata": {
    "ExecuteTime": {
     "end_time": "2025-03-31T13:01:56.470789Z",
     "start_time": "2025-03-31T13:01:56.467527Z"
    }
   },
   "cell_type": "code",
   "source": [
    "class Solution(object):\n",
    "    def isAnagram(self, s, t):\n",
    "        \"\"\"\n",
    "        :type s: str\n",
    "        :type t: str\n",
    "        :rtype: bool\n",
    "        \"\"\"\n",
    "        if len(s) != len(t):\n",
    "            return False\n",
    "\n",
    "        fs, ft = {}, {}\n",
    "\n",
    "        for i in range(len(s)):\n",
    "            fs[s[i]] = 1 + fs.get(s[i], 0)\n",
    "            ft[t[i]] = 1 + ft.get(t[i], 0)\n",
    "\n",
    "        return fs == ft\n",
    "\n",
    "    def isAnagram2(self, s, t):\n",
    "        \"\"\"\n",
    "        :type s: str\n",
    "        :type t: str\n",
    "        :rtype: bool\n",
    "        \"\"\"\n",
    "\n",
    "        return sorted(s) == sorted(t)"
   ],
   "id": "f35bca69c4b358ed",
   "outputs": [],
   "execution_count": 12
  },
  {
   "metadata": {
    "ExecuteTime": {
     "end_time": "2025-03-31T13:01:57.797038Z",
     "start_time": "2025-03-31T13:01:57.794394Z"
    }
   },
   "cell_type": "code",
   "source": [
    "s = Solution()\n",
    "s.isAnagram(\"anagram\", \"nagaram\")"
   ],
   "id": "e82d53bfb3bc00",
   "outputs": [
    {
     "data": {
      "text/plain": [
       "True"
      ]
     },
     "execution_count": 13,
     "metadata": {},
     "output_type": "execute_result"
    }
   ],
   "execution_count": 13
  },
  {
   "metadata": {},
   "cell_type": "markdown",
   "source": "## Two Sum",
   "id": "7aeb424220699b44"
  },
  {
   "metadata": {
    "ExecuteTime": {
     "end_time": "2025-03-31T13:07:01.745489Z",
     "start_time": "2025-03-31T13:07:01.742814Z"
    }
   },
   "cell_type": "code",
   "source": [
    "class Solution(object):\n",
    "    def twoSum(self, nums, target):\n",
    "        \"\"\"\n",
    "        :type nums: List[int]\n",
    "        :type target: int\n",
    "        :rtype: List[int]\n",
    "        \"\"\"\n",
    "        f = {}\n",
    "\n",
    "        for i in range(len(nums)):\n",
    "            if target - nums[i] in f.keys():\n",
    "                return [i, f[target - nums[i]]]\n",
    "            f[nums[i]] = i"
   ],
   "id": "dcea4af7fe16f708",
   "outputs": [],
   "execution_count": 14
  },
  {
   "metadata": {
    "ExecuteTime": {
     "end_time": "2025-03-31T13:07:02.639210Z",
     "start_time": "2025-03-31T13:07:02.635326Z"
    }
   },
   "cell_type": "code",
   "source": [
    "s = Solution()\n",
    "s.twoSum([2, 7, 11, 15], 9)"
   ],
   "id": "88044ef7b780f2a3",
   "outputs": [
    {
     "data": {
      "text/plain": [
       "[1, 0]"
      ]
     },
     "execution_count": 15,
     "metadata": {},
     "output_type": "execute_result"
    }
   ],
   "execution_count": 15
  },
  {
   "metadata": {},
   "cell_type": "markdown",
   "source": "---",
   "id": "fa49a935752e6622"
  },
  {
   "metadata": {},
   "cell_type": "markdown",
   "source": "# Medium Problems",
   "id": "5f86ecd40e1f9988"
  },
  {
   "metadata": {},
   "cell_type": "markdown",
   "source": "---",
   "id": "58625669fdd64a30"
  },
  {
   "metadata": {},
   "cell_type": "markdown",
   "source": "## Group Anagrams",
   "id": "c6a9f753a31613b6"
  },
  {
   "metadata": {
    "ExecuteTime": {
     "end_time": "2025-03-31T13:21:01.928143Z",
     "start_time": "2025-03-31T13:21:01.924081Z"
    }
   },
   "cell_type": "code",
   "source": [
    "from collections import defaultdict\n",
    "\n",
    "class Solution(object):\n",
    "    def groupAnagrams(self, strs):\n",
    "        \"\"\"\n",
    "        :type strs: List[str]\n",
    "        :rtype: List[List[str]]\n",
    "        \"\"\"\n",
    "        patterns = defaultdict(list)\n",
    "\n",
    "        for n in strs:\n",
    "            pattern = [0] * 26\n",
    "            for m in n:\n",
    "                pattern[ord(m) - ord('a')] += 1\n",
    "\n",
    "            patterns[tuple(pattern)].append(n)\n",
    "\n",
    "        return list(patterns.values())"
   ],
   "id": "ff80fddbdb995874",
   "outputs": [],
   "execution_count": 16
  },
  {
   "metadata": {
    "ExecuteTime": {
     "end_time": "2025-03-31T13:21:03.230069Z",
     "start_time": "2025-03-31T13:21:03.225125Z"
    }
   },
   "cell_type": "code",
   "source": [
    "s = Solution()\n",
    "s.groupAnagrams([\"eat\",\"tea\",\"tan\",\"ate\",\"nat\",\"bat\"])"
   ],
   "id": "55794e9d81a1527f",
   "outputs": [
    {
     "data": {
      "text/plain": [
       "[['eat', 'tea', 'ate'], ['tan', 'nat'], ['bat']]"
      ]
     },
     "execution_count": 17,
     "metadata": {},
     "output_type": "execute_result"
    }
   ],
   "execution_count": 17
  },
  {
   "metadata": {},
   "cell_type": "markdown",
   "source": "## Top K Frequent Elements",
   "id": "f36c86d2b1065284"
  },
  {
   "metadata": {
    "ExecuteTime": {
     "end_time": "2025-04-01T10:42:16.238266Z",
     "start_time": "2025-04-01T10:42:16.234590Z"
    }
   },
   "cell_type": "code",
   "source": [
    "class Solution(object):\n",
    "    def topKFrequent(self, nums, k):\n",
    "        \"\"\"\n",
    "        :type nums: List[int]\n",
    "        :type k: int\n",
    "        :rtype: List[int]\n",
    "        \"\"\"\n",
    "        count = {}\n",
    "        freq = [[] for i in range(len(nums) + 1)]\n",
    "\n",
    "        for num in nums:\n",
    "            count[num] = 1 + count.get(num, 0)\n",
    "        for num, cnt in count.items():\n",
    "            freq[cnt].append(num)\n",
    "\n",
    "        res = []\n",
    "        for i in range(len(freq) - 1, 0, -1):\n",
    "            for num in freq[i]:\n",
    "                res.append(num)\n",
    "                if len(res) == k:\n",
    "                    return res"
   ],
   "id": "bef0479ae9065d2f",
   "outputs": [],
   "execution_count": 1
  },
  {
   "metadata": {
    "ExecuteTime": {
     "end_time": "2025-04-01T10:42:18.140932Z",
     "start_time": "2025-04-01T10:42:18.136414Z"
    }
   },
   "cell_type": "code",
   "source": [
    "s = Solution()\n",
    "s.topKFrequent([1,1,1,2,2,3], 2)"
   ],
   "id": "217db7f5d045ebe2",
   "outputs": [
    {
     "data": {
      "text/plain": [
       "[1, 2]"
      ]
     },
     "execution_count": 2,
     "metadata": {},
     "output_type": "execute_result"
    }
   ],
   "execution_count": 2
  },
  {
   "metadata": {},
   "cell_type": "markdown",
   "source": "## Encode and Decode Strings",
   "id": "6e677d20efe6b876"
  },
  {
   "metadata": {
    "ExecuteTime": {
     "end_time": "2025-04-01T10:58:25.987020Z",
     "start_time": "2025-04-01T10:58:25.983548Z"
    }
   },
   "cell_type": "code",
   "source": [
    "from typing import List\n",
    "\n",
    "class Solution:\n",
    "    def encode(self, strs: List[str]) -> str:\n",
    "        if not strs:\n",
    "            return \"\"\n",
    "\n",
    "        encode = \"\"\n",
    "        for i in strs:\n",
    "            encode += str(len(i))\n",
    "            encode += \"#\"\n",
    "            encode += i\n",
    "        print(encode)\n",
    "        return encode\n",
    "\n",
    "    def decode(self, s: str) -> List[str]:\n",
    "        if s == \"\":\n",
    "            return []\n",
    "\n",
    "        decode = []\n",
    "        index = 0\n",
    "        while index != len(s):\n",
    "            lenght = \"\"\n",
    "            while s[index] != \"#\":\n",
    "                lenght += s[index]\n",
    "                index += 1\n",
    "\n",
    "            lenght = int(lenght)\n",
    "            index += 1\n",
    "\n",
    "            wd = \"\"\n",
    "            for i in range(lenght):\n",
    "                wd += s[index]\n",
    "                index += 1\n",
    "            decode.append(wd)\n",
    "        return decode"
   ],
   "id": "946bd4ed758fa588",
   "outputs": [],
   "execution_count": 8
  },
  {
   "metadata": {
    "ExecuteTime": {
     "end_time": "2025-04-01T10:58:47.100672Z",
     "start_time": "2025-04-01T10:58:47.096796Z"
    }
   },
   "cell_type": "code",
   "source": [
    "s = Solution()\n",
    "s.decode(s.encode([\"Hello\", \"World\"]))"
   ],
   "id": "f1cc8c6028a9c09f",
   "outputs": [
    {
     "name": "stdout",
     "output_type": "stream",
     "text": [
      "5#Hello5#World\n"
     ]
    },
    {
     "data": {
      "text/plain": [
       "['Hello', 'World']"
      ]
     },
     "execution_count": 11,
     "metadata": {},
     "output_type": "execute_result"
    }
   ],
   "execution_count": 11
  },
  {
   "metadata": {},
   "cell_type": "markdown",
   "source": "## Product of Array Except Self",
   "id": "4b5c8b711cb46785"
  },
  {
   "metadata": {
    "ExecuteTime": {
     "end_time": "2025-04-01T11:10:03.134609Z",
     "start_time": "2025-04-01T11:10:03.130641Z"
    }
   },
   "cell_type": "code",
   "source": [
    "class Solution(object):\n",
    "    def productExceptSelf(self, nums):\n",
    "        \"\"\"\n",
    "        :type nums: List[int]\n",
    "        :rtype: List[int]\n",
    "        \"\"\"\n",
    "        prefix = [0] * len(nums)\n",
    "        postfix = [0] * len(nums)\n",
    "\n",
    "        prefix[0] = 1\n",
    "        postfix[len(nums) - 1] = 1\n",
    "\n",
    "        m = 1\n",
    "        for i in range(1, len(nums)):\n",
    "            m *= nums[i-1]\n",
    "            prefix[i] = m\n",
    "\n",
    "        m = 1\n",
    "        for i in range(len(nums) - 2, -1, -1):\n",
    "            m *= nums[i+1]\n",
    "            postfix[i] = m\n",
    "\n",
    "        result = []\n",
    "        for i in range(len(nums)):\n",
    "            result.append(prefix[i] * postfix[i])\n",
    "\n",
    "        return result"
   ],
   "id": "ccba342fb9d9646b",
   "outputs": [],
   "execution_count": 12
  },
  {
   "metadata": {
    "ExecuteTime": {
     "end_time": "2025-04-01T11:10:04.852661Z",
     "start_time": "2025-04-01T11:10:04.849895Z"
    }
   },
   "cell_type": "code",
   "source": [
    "s = Solution()\n",
    "s.productExceptSelf([1,2,3,4])"
   ],
   "id": "2f634cab94eac847",
   "outputs": [
    {
     "data": {
      "text/plain": [
       "[24, 12, 8, 6]"
      ]
     },
     "execution_count": 13,
     "metadata": {},
     "output_type": "execute_result"
    }
   ],
   "execution_count": 13
  },
  {
   "metadata": {},
   "cell_type": "markdown",
   "source": "## Valid Sudoku",
   "id": "d507c7135d40a523"
  },
  {
   "metadata": {
    "ExecuteTime": {
     "end_time": "2025-04-02T22:27:55.296492Z",
     "start_time": "2025-04-02T22:27:55.293152Z"
    }
   },
   "cell_type": "code",
   "source": [
    "from collections import defaultdict\n",
    "\n",
    "class Solution(object):\n",
    "    def isValidSudoku(self, board):\n",
    "        \"\"\"\n",
    "        :type board: List[List[str]]\n",
    "        :rtype: bool\n",
    "        \"\"\"\n",
    "        cols = defaultdict(set)\n",
    "        rows = defaultdict(set)\n",
    "        squares = defaultdict(set)\n",
    "\n",
    "        for r in range(9):\n",
    "            for c in range(9):\n",
    "                if board[r][c] == \".\":\n",
    "                    continue\n",
    "                if ( board[r][c] in rows[r]\n",
    "                    or board[r][c] in cols[c]\n",
    "                    or board[r][c] in squares[(r // 3, c // 3)]):\n",
    "                    return False\n",
    "\n",
    "                cols[c].add(board[r][c])\n",
    "                rows[r].add(board[r][c])\n",
    "                squares[(r // 3, c // 3)].add(board[r][c])\n",
    "\n",
    "        return True"
   ],
   "id": "a977c54b9602ca51",
   "outputs": [],
   "execution_count": 4
  },
  {
   "metadata": {
    "ExecuteTime": {
     "end_time": "2025-04-02T22:28:07.670565Z",
     "start_time": "2025-04-02T22:28:07.665474Z"
    }
   },
   "cell_type": "code",
   "source": [
    "s = Solution()\n",
    "s.isValidSudoku(\n",
    "    [[\"8\",\"3\",\".\",\".\",\"7\",\".\",\".\",\".\",\".\"]\n",
    "    ,[\"6\",\".\",\".\",\"1\",\"9\",\"5\",\".\",\".\",\".\"]\n",
    "    ,[\".\",\"9\",\"8\",\".\",\".\",\".\",\".\",\"6\",\".\"]\n",
    "    ,[\"8\",\".\",\".\",\".\",\"6\",\".\",\".\",\".\",\"3\"]\n",
    "    ,[\"4\",\".\",\".\",\"8\",\".\",\"3\",\".\",\".\",\"1\"]\n",
    "    ,[\"7\",\".\",\".\",\".\",\"2\",\".\",\".\",\".\",\"6\"]\n",
    "    ,[\".\",\"6\",\".\",\".\",\".\",\".\",\"2\",\"8\",\".\"]\n",
    "    ,[\".\",\".\",\".\",\"4\",\"1\",\"9\",\".\",\".\",\"5\"]\n",
    "    ,[\".\",\".\",\".\",\".\",\"8\",\".\",\".\",\"7\",\"9\"]])"
   ],
   "id": "dc86c66ae9ecd3b4",
   "outputs": [
    {
     "data": {
      "text/plain": [
       "False"
      ]
     },
     "execution_count": 6,
     "metadata": {},
     "output_type": "execute_result"
    }
   ],
   "execution_count": 6
  },
  {
   "metadata": {},
   "cell_type": "markdown",
   "source": "## Longest Consecutive Sequence",
   "id": "2a04654ac94cf090"
  },
  {
   "metadata": {
    "ExecuteTime": {
     "end_time": "2025-04-02T22:40:19.174723Z",
     "start_time": "2025-04-02T22:40:19.171381Z"
    }
   },
   "cell_type": "code",
   "source": [
    "class Solution(object):\n",
    "    def longestConsecutive(self, nums):\n",
    "        \"\"\"\n",
    "        :type nums: List[int]\n",
    "        :rtype: int\n",
    "        \"\"\"\n",
    "        numSet = set(nums)\n",
    "        longest = 0\n",
    "\n",
    "        for num in numSet:\n",
    "            if (num - 1) not in numSet:\n",
    "                length = 1\n",
    "                while (num + length) in numSet:\n",
    "                    length += 1\n",
    "                longest = max(length, longest)\n",
    "        return longest"
   ],
   "id": "cd92d463423448d9",
   "outputs": [],
   "execution_count": 7
  },
  {
   "metadata": {
    "ExecuteTime": {
     "end_time": "2025-04-02T22:40:20.613809Z",
     "start_time": "2025-04-02T22:40:20.609479Z"
    }
   },
   "cell_type": "code",
   "source": [
    "s = Solution()\n",
    "s.longestConsecutive([100,4,200,1,3,2])"
   ],
   "id": "1432cdb4a4500509",
   "outputs": [
    {
     "data": {
      "text/plain": [
       "4"
      ]
     },
     "execution_count": 8,
     "metadata": {},
     "output_type": "execute_result"
    }
   ],
   "execution_count": 8
  }
 ],
 "metadata": {
  "kernelspec": {
   "display_name": "Python 3",
   "language": "python",
   "name": "python3"
  },
  "language_info": {
   "codemirror_mode": {
    "name": "ipython",
    "version": 2
   },
   "file_extension": ".py",
   "mimetype": "text/x-python",
   "name": "python",
   "nbconvert_exporter": "python",
   "pygments_lexer": "ipython2",
   "version": "2.7.6"
  }
 },
 "nbformat": 4,
 "nbformat_minor": 5
}
