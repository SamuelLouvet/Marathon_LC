{
 "cells": [
  {
   "metadata": {},
   "cell_type": "markdown",
   "source": "---",
   "id": "fdd728e10cc73d55"
  },
  {
   "metadata": {},
   "cell_type": "markdown",
   "source": "# Easy Problems",
   "id": "13fd03a01e3def0c"
  },
  {
   "metadata": {},
   "cell_type": "markdown",
   "source": "---",
   "id": "74ef546b17356905"
  },
  {
   "metadata": {},
   "cell_type": "markdown",
   "source": "## Contains Duplicate",
   "id": "344d20d280e77269"
  },
  {
   "metadata": {
    "ExecuteTime": {
     "end_time": "2025-03-31T13:01:18.461958Z",
     "start_time": "2025-03-31T13:01:18.459342Z"
    }
   },
   "cell_type": "code",
   "source": [
    "class Solution(object):\n",
    "    def containsDuplicate(self, nums):\n",
    "        \"\"\"\n",
    "        :type nums: List[int]\n",
    "        :rtype: bool\n",
    "        \"\"\"\n",
    "        f = set()\n",
    "        for n in nums:\n",
    "            if n in f:\n",
    "                return True\n",
    "            f.add(n)\n",
    "        return False\n",
    "\n",
    "    def containsDuplicate2(self, nums):\n",
    "        \"\"\"\n",
    "        :type nums: List[int]\n",
    "        :rtype: bool\n",
    "        \"\"\"\n",
    "        x = set(nums)\n",
    "        if len(x) < len(nums):\n",
    "            return True\n",
    "\n",
    "        return False"
   ],
   "id": "2344090c8fff0829",
   "outputs": [],
   "execution_count": 7
  },
  {
   "metadata": {
    "ExecuteTime": {
     "end_time": "2025-03-31T13:01:54.899155Z",
     "start_time": "2025-03-31T13:01:54.895911Z"
    }
   },
   "cell_type": "code",
   "source": [
    "s = Solution()\n",
    "s.containsDuplicate([2,7,11,15])"
   ],
   "id": "8478d4111ba57f78",
   "outputs": [
    {
     "data": {
      "text/plain": [
       "False"
      ]
     },
     "execution_count": 11,
     "metadata": {},
     "output_type": "execute_result"
    }
   ],
   "execution_count": 11
  },
  {
   "metadata": {},
   "cell_type": "markdown",
   "source": "## Valid Anagram",
   "id": "5fc4e054985c9554"
  },
  {
   "metadata": {
    "ExecuteTime": {
     "end_time": "2025-03-31T13:01:56.470789Z",
     "start_time": "2025-03-31T13:01:56.467527Z"
    }
   },
   "cell_type": "code",
   "source": [
    "class Solution(object):\n",
    "    def isAnagram(self, s, t):\n",
    "        \"\"\"\n",
    "        :type s: str\n",
    "        :type t: str\n",
    "        :rtype: bool\n",
    "        \"\"\"\n",
    "        if len(s) != len(t):\n",
    "            return False\n",
    "\n",
    "        fs, ft = {}, {}\n",
    "\n",
    "        for i in range(len(s)):\n",
    "            fs[s[i]] = 1 + fs.get(s[i], 0)\n",
    "            ft[t[i]] = 1 + ft.get(t[i], 0)\n",
    "\n",
    "        return fs == ft\n",
    "\n",
    "    def isAnagram2(self, s, t):\n",
    "        \"\"\"\n",
    "        :type s: str\n",
    "        :type t: str\n",
    "        :rtype: bool\n",
    "        \"\"\"\n",
    "\n",
    "        return sorted(s) == sorted(t)"
   ],
   "id": "f35bca69c4b358ed",
   "outputs": [],
   "execution_count": 12
  },
  {
   "metadata": {
    "ExecuteTime": {
     "end_time": "2025-03-31T13:01:57.797038Z",
     "start_time": "2025-03-31T13:01:57.794394Z"
    }
   },
   "cell_type": "code",
   "source": [
    "s = Solution()\n",
    "s.isAnagram(\"anagram\", \"nagaram\")"
   ],
   "id": "e82d53bfb3bc00",
   "outputs": [
    {
     "data": {
      "text/plain": [
       "True"
      ]
     },
     "execution_count": 13,
     "metadata": {},
     "output_type": "execute_result"
    }
   ],
   "execution_count": 13
  },
  {
   "metadata": {},
   "cell_type": "markdown",
   "source": "## Two Sum",
   "id": "7aeb424220699b44"
  },
  {
   "metadata": {
    "ExecuteTime": {
     "end_time": "2025-03-31T13:07:01.745489Z",
     "start_time": "2025-03-31T13:07:01.742814Z"
    }
   },
   "cell_type": "code",
   "source": [
    "class Solution(object):\n",
    "    def twoSum(self, nums, target):\n",
    "        \"\"\"\n",
    "        :type nums: List[int]\n",
    "        :type target: int\n",
    "        :rtype: List[int]\n",
    "        \"\"\"\n",
    "        f = {}\n",
    "\n",
    "        for i in range(len(nums)):\n",
    "            if target - nums[i] in f.keys():\n",
    "                return [i, f[target - nums[i]]]\n",
    "            f[nums[i]] = i"
   ],
   "id": "dcea4af7fe16f708",
   "outputs": [],
   "execution_count": 14
  },
  {
   "metadata": {
    "ExecuteTime": {
     "end_time": "2025-03-31T13:07:02.639210Z",
     "start_time": "2025-03-31T13:07:02.635326Z"
    }
   },
   "cell_type": "code",
   "source": [
    "s = Solution()\n",
    "s.twoSum([2, 7, 11, 15], 9)"
   ],
   "id": "88044ef7b780f2a3",
   "outputs": [
    {
     "data": {
      "text/plain": [
       "[1, 0]"
      ]
     },
     "execution_count": 15,
     "metadata": {},
     "output_type": "execute_result"
    }
   ],
   "execution_count": 15
  },
  {
   "metadata": {},
   "cell_type": "markdown",
   "source": "---",
   "id": "fa49a935752e6622"
  },
  {
   "metadata": {},
   "cell_type": "markdown",
   "source": "# Medium Problems",
   "id": "5f86ecd40e1f9988"
  },
  {
   "metadata": {},
   "cell_type": "markdown",
   "source": "---",
   "id": "58625669fdd64a30"
  },
  {
   "metadata": {},
   "cell_type": "markdown",
   "source": "## Group Anagrams",
   "id": "c6a9f753a31613b6"
  },
  {
   "metadata": {
    "ExecuteTime": {
     "end_time": "2025-03-31T13:21:01.928143Z",
     "start_time": "2025-03-31T13:21:01.924081Z"
    }
   },
   "cell_type": "code",
   "source": [
    "from collections import defaultdict\n",
    "\n",
    "class Solution(object):\n",
    "    def groupAnagrams(self, strs):\n",
    "        \"\"\"\n",
    "        :type strs: List[str]\n",
    "        :rtype: List[List[str]]\n",
    "        \"\"\"\n",
    "        patterns = defaultdict(list)\n",
    "\n",
    "        for n in strs:\n",
    "            pattern = [0] * 26\n",
    "            for m in n:\n",
    "                pattern[ord(m) - ord('a')] += 1\n",
    "\n",
    "            patterns[tuple(pattern)].append(n)\n",
    "\n",
    "        return list(patterns.values())"
   ],
   "id": "ff80fddbdb995874",
   "outputs": [],
   "execution_count": 16
  },
  {
   "metadata": {
    "ExecuteTime": {
     "end_time": "2025-03-31T13:21:03.230069Z",
     "start_time": "2025-03-31T13:21:03.225125Z"
    }
   },
   "cell_type": "code",
   "source": [
    "s = Solution()\n",
    "s.groupAnagrams([\"eat\",\"tea\",\"tan\",\"ate\",\"nat\",\"bat\"])"
   ],
   "id": "55794e9d81a1527f",
   "outputs": [
    {
     "data": {
      "text/plain": [
       "[['eat', 'tea', 'ate'], ['tan', 'nat'], ['bat']]"
      ]
     },
     "execution_count": 17,
     "metadata": {},
     "output_type": "execute_result"
    }
   ],
   "execution_count": 17
  }
 ],
 "metadata": {
  "kernelspec": {
   "display_name": "Python 3",
   "language": "python",
   "name": "python3"
  },
  "language_info": {
   "codemirror_mode": {
    "name": "ipython",
    "version": 2
   },
   "file_extension": ".py",
   "mimetype": "text/x-python",
   "name": "python",
   "nbconvert_exporter": "python",
   "pygments_lexer": "ipython2",
   "version": "2.7.6"
  }
 },
 "nbformat": 4,
 "nbformat_minor": 5
}
