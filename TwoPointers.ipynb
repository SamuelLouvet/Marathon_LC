{
 "cells": [
  {
   "metadata": {},
   "cell_type": "markdown",
   "source": "# Two Pointers",
   "id": "9596ab119d975c22"
  },
  {
   "metadata": {},
   "cell_type": "markdown",
   "source": [
    "### Probleme 10\n",
    "\n",
    "#### Easy\n",
    "\n",
    "Valid Palindrome\n",
    "Given a string s, return true if it is a palindrome, otherwise return false.\n",
    "\n",
    "A palindrome is a string that reads the same forward and backward. It is also case-insensitive and ignores all non-alphanumeric characters.\n",
    "\n",
    "Example 1:\n",
    "\n",
    "Input: s = \"Was it a car or a cat I saw?\"\n",
    "\n",
    "Output: true\n",
    "Explanation: After considering only alphanumerical characters we have \"wasitacaroracatisaw\", which is a palindrome.\n",
    "\n",
    "Example 2:\n",
    "\n",
    "Input: s = \"tab a cat\"\n",
    "\n",
    "Output: false\n",
    "Explanation: \"tabacat\" is not a palindrome.\n",
    "\n",
    "Constraints:\n",
    "\n",
    "1 <= s.length <= 1000\n",
    "s is made up of only printable ASCII characters."
   ],
   "id": "2313e973d69074fd"
  },
  {
   "metadata": {},
   "cell_type": "code",
   "outputs": [],
   "execution_count": null,
   "source": [
    "class Solution(object):\n",
    "\n",
    "\n",
    "    def alphanum(self, c):\n",
    "        return (ord('a')<=ord(c)<=ord('z')\n",
    "                or ord('A')<=ord(c)<ord('Z')\n",
    "                or ord('0')<=ord(c)<=ord('9'))\n",
    "\n",
    "\n",
    "    def isPalindrome(self,s):\n",
    "\n",
    "        i,j=0,len(s)-1\n",
    "        while i<j:\n",
    "            while i<j and not self.alphanum(s[i]):\n",
    "                i+=1\n",
    "            while i<j and not self.alphanum(s[j]):\n",
    "                j-=1\n",
    "\n",
    "            if s[i].lower()!=s[j].lower():\n",
    "                return False\n",
    "            j-=1\n",
    "            i+=1\n",
    "        return True\n",
    "\n",
    "\n",
    "\n"
   ],
   "id": "1e316af00a38af86"
  },
  {
   "metadata": {},
   "cell_type": "markdown",
   "source": [
    "### Probleme 11\n",
    "\n",
    "#### Medium\n",
    "\n",
    "Two Integer Sum II\n",
    "Given an array of integers numbers that is sorted in non-decreasing order.\n",
    "\n",
    "Return the indices (1-indexed) of two numbers, [index1, index2], such that they add up to a given target number target and index1 < index2. Note that index1 and index2 cannot be equal, therefore you may not use the same element twice.\n",
    "\n",
    "There will always be exactly one valid solution.\n",
    "\n",
    "Your solution must use\n",
    "O\n",
    "(\n",
    "1\n",
    ")\n",
    "O(1) additional space.\n",
    "\n",
    "Example 1:\n",
    "\n",
    "Input: numbers = [1,2,3,4], target = 3\n",
    "\n",
    "Output: [1,2]\n",
    "Explanation:\n",
    "The sum of 1 and 2 is 3. Since we are assuming a 1-indexed array, index1 = 1, index2 = 2. We return [1, 2].\n",
    "\n",
    "Constraints:\n",
    "\n",
    "2 <= numbers.length <= 1000\n",
    "-1000 <= numbers[i] <= 1000\n",
    "-1000 <= target <= 1000\n",
    "\n",
    "\n",
    "Recommended Time & Space Complexity\n",
    "You should aim for a solution with O(n) time and O(1) space, where n is the size of the input array."
   ],
   "id": "9db3b60f04a8464e"
  },
  {
   "metadata": {
    "ExecuteTime": {
     "end_time": "2025-04-03T21:12:33.332694Z",
     "start_time": "2025-04-03T21:12:33.296690Z"
    }
   },
   "cell_type": "code",
   "source": [
    "class Solution:\n",
    "    def twoSum(self, numbers, target):\n",
    "        l,r=0,len(numbers)-1\n",
    "\n",
    "        while l<r:\n",
    "\n",
    "            if numbers[l]+numbers[r]>target:\n",
    "                r-=1\n",
    "            elif numbers[l]+numbers[r]<target:\n",
    "                 l+=1\n",
    "\n",
    "            else:\n",
    "                return [l+1,r+1]\n",
    "\n",
    "\n",
    "        return []\n",
    "\n",
    "numbers=[-10,-5,0,3,7]\n",
    "target=-2\n",
    "\n",
    "s=Solution()\n",
    "print(s.twoSum(numbers, target))"
   ],
   "id": "104b1c1cc957d305",
   "outputs": [
    {
     "data": {
      "text/plain": [
       "[]"
      ]
     },
     "execution_count": 1,
     "metadata": {},
     "output_type": "execute_result"
    }
   ],
   "execution_count": 1
  }
 ],
 "metadata": {
  "kernelspec": {
   "display_name": "Python 3",
   "language": "python",
   "name": "python3"
  },
  "language_info": {
   "codemirror_mode": {
    "name": "ipython",
    "version": 2
   },
   "file_extension": ".py",
   "mimetype": "text/x-python",
   "name": "python",
   "nbconvert_exporter": "python",
   "pygments_lexer": "ipython2",
   "version": "2.7.6"
  }
 },
 "nbformat": 4,
 "nbformat_minor": 5
}
